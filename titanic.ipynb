{
 "cells": [
  {
   "attachments": {},
   "cell_type": "markdown",
   "metadata": {},
   "source": [
    "## Binary Classification: Classifying survivers of the titanic"
   ]
  },
  {
   "cell_type": "code",
   "execution_count": 7,
   "metadata": {},
   "outputs": [],
   "source": [
    "import numpy as np\n",
    "import pandas as pd\n",
    "\n",
    "import torch\n",
    "import torch.nn as nn\n",
    "from sklearn.ensemble import RandomForestClassifier\n",
    "\n",
    "from sklearn.linear_model import LogisticRegression\n",
    "from sklearn.model_selection import train_test_split\n",
    "from sklearn.metrics import accuracy_score\n",
    "from sklearn.feature_selection import SelectFromModel\n",
    "\n",
    "from sklearn.svm import SVC"
   ]
  },
  {
   "attachments": {},
   "cell_type": "markdown",
   "metadata": {},
   "source": [
    "### Import training and testing data as dataframes"
   ]
  },
  {
   "cell_type": "code",
   "execution_count": 2,
   "metadata": {},
   "outputs": [
    {
     "name": "stdout",
     "output_type": "stream",
     "text": [
      "(891, 12)\n",
      "(418, 11)\n"
     ]
    }
   ],
   "source": [
    "rawTrainingData = pd.read_csv(\"./train.csv\")\n",
    "rawTestingData = pd.read_csv(\"./test.csv\")\n",
    "print(rawTrainingData.shape)\n",
    "print(rawTestingData.shape)"
   ]
  },
  {
   "attachments": {},
   "cell_type": "markdown",
   "metadata": {},
   "source": [
    "### Prepares data for models"
   ]
  },
  {
   "cell_type": "code",
   "execution_count": 3,
   "metadata": {},
   "outputs": [],
   "source": [
    "# Define target variable\n",
    "target = rawTrainingData[\"Survived\"]\n",
    "\n",
    "# Define predictor variables\n",
    "features = [\"Pclass\", \"Sex\", \"SibSp\", \"Parch\"]\n",
    "\n",
    "# get_dummies converts these predictor variables into numerical features\n",
    "predictor = pd.get_dummies(rawTrainingData[features])\n",
    "testingPredictor = pd.get_dummies(rawTestingData[features])"
   ]
  },
  {
   "attachments": {},
   "cell_type": "markdown",
   "metadata": {},
   "source": [
    "### Random Forest Model From SciKit-Learn 77.5% accuracy"
   ]
  },
  {
   "cell_type": "code",
   "execution_count": null,
   "metadata": {},
   "outputs": [],
   "source": [
    "# Defines the Random Forest Model with (Number of trees, max depth of each tree, random seed for initialization)\n",
    "model = RandomForestClassifier(n_estimators=100, max_depth=5, random_state=1)\n",
    "# Fits the model to the training data\n",
    "model.fit(predictor, target)\n",
    "# Predicts the target variables for the test data\n",
    "predictionsRF = model.predict(testingPredictor)\n",
    "\n",
    "# Creates a dataFrame for output\n",
    "outputRF = pd.DataFrame({'PassengerId': rawTestingData.PassengerId, 'Survived': predictionsRF})\n",
    "outputRF.to_csv('submission.csv', index=False)"
   ]
  },
  {
   "attachments": {},
   "cell_type": "markdown",
   "metadata": {},
   "source": [
    "### Logistic Regression Model From SciKit-Learn 76.6% accuracy"
   ]
  },
  {
   "cell_type": "code",
   "execution_count": null,
   "metadata": {},
   "outputs": [],
   "source": [
    "# Fit a logistic regression model\n",
    "logreg = LogisticRegression()\n",
    "logreg.fit(predictor, target)\n",
    "\n",
    "# Use SelectFromModel to select the most informative features\n",
    "sfm = SelectFromModel(logreg, prefit=True)\n",
    "selectedFeatures = sfm.transform(predictor)\n",
    "selectedTestingFeatures = sfm.transform(testingPredictor)\n",
    "\n",
    "\n",
    "# Fit a logistic regression model using the selected features\n",
    "logregSelected = LogisticRegression()\n",
    "logregSelected.fit(selectedFeatures, target)\n",
    "\n",
    "# Use the model to predict the target variable for the testing data\n",
    "predictionsLR = logregSelected.predict(selectedTestingFeatures)\n",
    "\n",
    "# Creates a dataFrame for output\n",
    "outputLR = pd.DataFrame({'PassengerId': rawTestingData.PassengerId, 'Survived': predictionsLR})\n",
    "outputLR.to_csv('submissionLR.csv', index=False)"
   ]
  },
  {
   "attachments": {},
   "cell_type": "markdown",
   "metadata": {},
   "source": [
    "### Support Vector Machines From SkiKit-Learn"
   ]
  },
  {
   "cell_type": "code",
   "execution_count": null,
   "metadata": {},
   "outputs": [],
   "source": [
    "# Create and fit an SVM model using the linear kernel\n",
    "model = SVC(kernel='linear', C=1)\n",
    "model.fit(predictor, target)\n",
    "predictionsSVM = model.predict()"
   ]
  }
 ],
 "metadata": {
  "kernelspec": {
   "display_name": "titanPT",
   "language": "python",
   "name": "python3"
  },
  "language_info": {
   "codemirror_mode": {
    "name": "ipython",
    "version": 3
   },
   "file_extension": ".py",
   "mimetype": "text/x-python",
   "name": "python",
   "nbconvert_exporter": "python",
   "pygments_lexer": "ipython3",
   "version": "3.10.11"
  },
  "orig_nbformat": 4
 },
 "nbformat": 4,
 "nbformat_minor": 2
}
