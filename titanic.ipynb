{
 "cells": [
  {
   "attachments": {},
   "cell_type": "markdown",
   "metadata": {},
   "source": [
    "## Binary Classification: Classifying survivers of the titanic"
   ]
  },
  {
   "cell_type": "code",
   "execution_count": 1,
   "metadata": {},
   "outputs": [],
   "source": [
    "import numpy as np\n",
    "import pandas as pd\n",
    "\n",
    "from sklearn.ensemble import RandomForestClassifier\n",
    "\n",
    "from sklearn.linear_model import LogisticRegression\n",
    "from sklearn.model_selection import train_test_split\n",
    "from sklearn.metrics import accuracy_score\n",
    "from sklearn.feature_selection import SelectFromModel\n",
    "\n",
    "from sklearn.svm import SVC\n",
    "\n",
    "import xgboost as xgb"
   ]
  },
  {
   "attachments": {},
   "cell_type": "markdown",
   "metadata": {},
   "source": [
    "### Import training and testing data as dataframes"
   ]
  },
  {
   "cell_type": "code",
   "execution_count": 2,
   "metadata": {},
   "outputs": [
    {
     "name": "stdout",
     "output_type": "stream",
     "text": [
      "(891, 12)\n",
      "(418, 11)\n"
     ]
    }
   ],
   "source": [
    "rawTrainingData = pd.read_csv(\"./train.csv\")\n",
    "rawTestingData = pd.read_csv(\"./test.csv\")\n",
    "print(rawTrainingData.shape)\n",
    "print(rawTestingData.shape)"
   ]
  },
  {
   "attachments": {},
   "cell_type": "markdown",
   "metadata": {},
   "source": [
    "### Prepares data for models"
   ]
  },
  {
   "cell_type": "code",
   "execution_count": 3,
   "metadata": {},
   "outputs": [],
   "source": [
    "# Define target variable\n",
    "target = rawTrainingData[\"Survived\"]\n",
    "\n",
    "# Define predictor variables\n",
    "features = [\"Pclass\", \"Sex\", \"SibSp\", \"Parch\"]\n",
    "\n",
    "# get_dummies converts these predictor variables into numerical features\n",
    "predictor = pd.get_dummies(rawTrainingData[features])\n",
    "testingPredictor = pd.get_dummies(rawTestingData[features])"
   ]
  },
  {
   "attachments": {},
   "cell_type": "markdown",
   "metadata": {},
   "source": [
    "### Random Forest Model From SciKit-Learn 77.5% accuracy"
   ]
  },
  {
   "cell_type": "code",
   "execution_count": null,
   "metadata": {},
   "outputs": [],
   "source": [
    "# Defines the Random Forest Model with (Number of trees, max depth of each tree, random seed for initialization)\n",
    "modelRFM = RandomForestClassifier(n_estimators=100, max_depth=5, random_state=1)\n",
    "# Fits the model to the training data\n",
    "modelRFM.fit(predictor, target)\n",
    "# Predicts the target variables for the test data\n",
    "predictionsRF = modelRFM.predict(testingPredictor)\n",
    "\n",
    "# Creates a dataFrame for output\n",
    "outputRF = pd.DataFrame({'PassengerId': rawTestingData.PassengerId, 'Survived': predictionsRF})\n",
    "outputRF.to_csv('submission.csv', index=False)"
   ]
  },
  {
   "attachments": {},
   "cell_type": "markdown",
   "metadata": {},
   "source": [
    "### Logistic Regression Model From SciKit-Learn 76.6% accuracy"
   ]
  },
  {
   "cell_type": "code",
   "execution_count": null,
   "metadata": {},
   "outputs": [],
   "source": [
    "# Fit a logistic regression model\n",
    "logreg = LogisticRegression()\n",
    "logreg.fit(predictor, target)\n",
    "\n",
    "# Use SelectFromModel to select the most informative features\n",
    "sfm = SelectFromModel(logreg, prefit=True)\n",
    "selectedFeatures = sfm.transform(predictor)\n",
    "selectedTestingFeatures = sfm.transform(testingPredictor)\n",
    "\n",
    "\n",
    "# Fit a logistic regression model using the selected features\n",
    "logregSelected = LogisticRegression()\n",
    "logregSelected.fit(selectedFeatures, target)\n",
    "\n",
    "# Use the model to predict the target variable for the testing data\n",
    "predictionsLR = logregSelected.predict(selectedTestingFeatures)\n",
    "\n",
    "# Creates a dataFrame for output\n",
    "outputLR = pd.DataFrame({'PassengerId': rawTestingData.PassengerId, 'Survived': predictionsLR})\n",
    "outputLR.to_csv('submissionLR.csv', index=False)"
   ]
  },
  {
   "attachments": {},
   "cell_type": "markdown",
   "metadata": {},
   "source": [
    "### Support Vector Machines From SkiKit-Learn 76.6% Accuracy"
   ]
  },
  {
   "cell_type": "code",
   "execution_count": null,
   "metadata": {},
   "outputs": [],
   "source": [
    "# Create and fit an SVM model using the linear kernel\n",
    "modelSVM = SVC(kernel='linear', C=1)\n",
    "modelSVM.fit(predictor, target)\n",
    "\n",
    "# Make predictions on the data\n",
    "predictionsSVM = modelSVM.predict(testingPredictor)\n",
    "\n",
    "# Creates output dataframe\n",
    "outputSVM = pd.DataFrame({'PassengerId': rawTestingData.PassengerId, 'Survived': predictionsSVM})\n",
    "outputSVM.to_csv('submissionSVM.csv', index=False)"
   ]
  },
  {
   "attachments": {},
   "cell_type": "markdown",
   "metadata": {},
   "source": [
    "### XGBoost for Binary Classification 77.0% Accuracy"
   ]
  },
  {
   "cell_type": "code",
   "execution_count": null,
   "metadata": {},
   "outputs": [],
   "source": [
    "# Create XGBoost model\n",
    "xgb_model = xgb.XGBClassifier(\n",
    "    objective=\"binary:logistic\", \n",
    "    random_state=42,\n",
    "    max_depth=3,\n",
    "    learning_rate=0.1,\n",
    "    n_estimators=100,\n",
    "    colsample_bytree=0.5,\n",
    "    subsample=0.5,\n",
    "    reg_lambda=1)\n",
    "\n",
    "# Fit the model\n",
    "xgb_model.fit(predictor, target)\n",
    "\n",
    "# Make predictions on test data\n",
    "predictionsXG = xgb_model.predict(testingPredictor)\n",
    "\n",
    "outputXG = pd.DataFrame({'PassengerId': rawTestingData.PassengerId, 'Survived': predictionsXG})\n",
    "outputXG.to_csv('submissionXG.csv', index=False)"
   ]
  }
 ],
 "metadata": {
  "kernelspec": {
   "display_name": "titanPT",
   "language": "python",
   "name": "python3"
  },
  "language_info": {
   "codemirror_mode": {
    "name": "ipython",
    "version": 3
   },
   "file_extension": ".py",
   "mimetype": "text/x-python",
   "name": "python",
   "nbconvert_exporter": "python",
   "pygments_lexer": "ipython3",
   "version": "3.10.11"
  },
  "orig_nbformat": 4
 },
 "nbformat": 4,
 "nbformat_minor": 2
}
